{
 "cells": [
  {
   "cell_type": "markdown",
   "metadata": {},
   "source": [
    "## Business Understanding\n",
    "\n",
    "### Question 1: Which languages have been used the most each year?\n",
    "### Question 2: Which languages have been the most unwanted?\n",
    "### Question 3: Which languages are associated with the highest salaries?"
   ]
  },
  {
   "cell_type": "code",
   "execution_count": 16,
   "metadata": {
    "scrolled": true
   },
   "outputs": [],
   "source": [
    "import numpy as np\n",
    "import pandas as pd\n",
    "import matplotlib.pyplot as plt\n",
    "import seaborn as sns\n",
    "import re\n",
    "\n",
    "from collections import Counter\n",
    "\n",
    "%matplotlib inline"
   ]
  },
  {
   "cell_type": "markdown",
   "metadata": {},
   "source": [
    "## Data Understanding"
   ]
  },
  {
   "cell_type": "code",
   "execution_count": 17,
   "metadata": {
    "scrolled": true
   },
   "outputs": [
    {
     "name": "stderr",
     "output_type": "stream",
     "text": [
      "/opt/conda/lib/python3.6/site-packages/IPython/core/interactiveshell.py:2901: DtypeWarning: Columns (8,12,13,14,15,16,50,51,52,53,55,56,57,58,59,60,61,62,63,64,65,66,67,68,69,70,71,72,73,74,75,76,77,78,79,80,81,82,83,84,85,93,94,95,96,97,98,99,100,101,102,103,104,105,106,107,108,109,110,111,112,113,114,115,116,117,118,119,120,121,122,123,124,125,126,127,128) have mixed types. Specify dtype option on import or set low_memory=False.\n",
      "  if self.run_code(code, result):\n"
     ]
    },
    {
     "data": {
      "text/html": [
       "<div>\n",
       "<style scoped>\n",
       "    .dataframe tbody tr th:only-of-type {\n",
       "        vertical-align: middle;\n",
       "    }\n",
       "\n",
       "    .dataframe tbody tr th {\n",
       "        vertical-align: top;\n",
       "    }\n",
       "\n",
       "    .dataframe thead th {\n",
       "        text-align: right;\n",
       "    }\n",
       "</style>\n",
       "<table border=\"1\" class=\"dataframe\">\n",
       "  <thead>\n",
       "    <tr style=\"text-align: right;\">\n",
       "      <th></th>\n",
       "      <th>Respondent</th>\n",
       "      <th>Hobby</th>\n",
       "      <th>OpenSource</th>\n",
       "      <th>Country</th>\n",
       "      <th>Student</th>\n",
       "      <th>Employment</th>\n",
       "      <th>FormalEducation</th>\n",
       "      <th>UndergradMajor</th>\n",
       "      <th>CompanySize</th>\n",
       "      <th>DevType</th>\n",
       "      <th>...</th>\n",
       "      <th>Exercise</th>\n",
       "      <th>Gender</th>\n",
       "      <th>SexualOrientation</th>\n",
       "      <th>EducationParents</th>\n",
       "      <th>RaceEthnicity</th>\n",
       "      <th>Age</th>\n",
       "      <th>Dependents</th>\n",
       "      <th>MilitaryUS</th>\n",
       "      <th>SurveyTooLong</th>\n",
       "      <th>SurveyEasy</th>\n",
       "    </tr>\n",
       "  </thead>\n",
       "  <tbody>\n",
       "    <tr>\n",
       "      <th>0</th>\n",
       "      <td>1</td>\n",
       "      <td>Yes</td>\n",
       "      <td>No</td>\n",
       "      <td>Kenya</td>\n",
       "      <td>No</td>\n",
       "      <td>Employed part-time</td>\n",
       "      <td>Bachelor’s degree (BA, BS, B.Eng., etc.)</td>\n",
       "      <td>Mathematics or statistics</td>\n",
       "      <td>20 to 99 employees</td>\n",
       "      <td>Full-stack developer</td>\n",
       "      <td>...</td>\n",
       "      <td>3 - 4 times per week</td>\n",
       "      <td>Male</td>\n",
       "      <td>Straight or heterosexual</td>\n",
       "      <td>Bachelor’s degree (BA, BS, B.Eng., etc.)</td>\n",
       "      <td>Black or of African descent</td>\n",
       "      <td>25 - 34 years old</td>\n",
       "      <td>Yes</td>\n",
       "      <td>NaN</td>\n",
       "      <td>The survey was an appropriate length</td>\n",
       "      <td>Very easy</td>\n",
       "    </tr>\n",
       "    <tr>\n",
       "      <th>1</th>\n",
       "      <td>3</td>\n",
       "      <td>Yes</td>\n",
       "      <td>Yes</td>\n",
       "      <td>United Kingdom</td>\n",
       "      <td>No</td>\n",
       "      <td>Employed full-time</td>\n",
       "      <td>Bachelor’s degree (BA, BS, B.Eng., etc.)</td>\n",
       "      <td>A natural science (ex. biology, chemistry, phy...</td>\n",
       "      <td>10,000 or more employees</td>\n",
       "      <td>Database administrator;DevOps specialist;Full-...</td>\n",
       "      <td>...</td>\n",
       "      <td>Daily or almost every day</td>\n",
       "      <td>Male</td>\n",
       "      <td>Straight or heterosexual</td>\n",
       "      <td>Bachelor’s degree (BA, BS, B.Eng., etc.)</td>\n",
       "      <td>White or of European descent</td>\n",
       "      <td>35 - 44 years old</td>\n",
       "      <td>Yes</td>\n",
       "      <td>NaN</td>\n",
       "      <td>The survey was an appropriate length</td>\n",
       "      <td>Somewhat easy</td>\n",
       "    </tr>\n",
       "    <tr>\n",
       "      <th>2</th>\n",
       "      <td>4</td>\n",
       "      <td>Yes</td>\n",
       "      <td>Yes</td>\n",
       "      <td>United States</td>\n",
       "      <td>No</td>\n",
       "      <td>Employed full-time</td>\n",
       "      <td>Associate degree</td>\n",
       "      <td>Computer science, computer engineering, or sof...</td>\n",
       "      <td>20 to 99 employees</td>\n",
       "      <td>Engineering manager;Full-stack developer</td>\n",
       "      <td>...</td>\n",
       "      <td>NaN</td>\n",
       "      <td>NaN</td>\n",
       "      <td>NaN</td>\n",
       "      <td>NaN</td>\n",
       "      <td>NaN</td>\n",
       "      <td>NaN</td>\n",
       "      <td>NaN</td>\n",
       "      <td>NaN</td>\n",
       "      <td>NaN</td>\n",
       "      <td>NaN</td>\n",
       "    </tr>\n",
       "    <tr>\n",
       "      <th>3</th>\n",
       "      <td>5</td>\n",
       "      <td>No</td>\n",
       "      <td>No</td>\n",
       "      <td>United States</td>\n",
       "      <td>No</td>\n",
       "      <td>Employed full-time</td>\n",
       "      <td>Bachelor’s degree (BA, BS, B.Eng., etc.)</td>\n",
       "      <td>Computer science, computer engineering, or sof...</td>\n",
       "      <td>100 to 499 employees</td>\n",
       "      <td>Full-stack developer</td>\n",
       "      <td>...</td>\n",
       "      <td>I don't typically exercise</td>\n",
       "      <td>Male</td>\n",
       "      <td>Straight or heterosexual</td>\n",
       "      <td>Some college/university study without earning ...</td>\n",
       "      <td>White or of European descent</td>\n",
       "      <td>35 - 44 years old</td>\n",
       "      <td>No</td>\n",
       "      <td>No</td>\n",
       "      <td>The survey was an appropriate length</td>\n",
       "      <td>Somewhat easy</td>\n",
       "    </tr>\n",
       "    <tr>\n",
       "      <th>4</th>\n",
       "      <td>7</td>\n",
       "      <td>Yes</td>\n",
       "      <td>No</td>\n",
       "      <td>South Africa</td>\n",
       "      <td>Yes, part-time</td>\n",
       "      <td>Employed full-time</td>\n",
       "      <td>Some college/university study without earning ...</td>\n",
       "      <td>Computer science, computer engineering, or sof...</td>\n",
       "      <td>10,000 or more employees</td>\n",
       "      <td>Data or business analyst;Desktop or enterprise...</td>\n",
       "      <td>...</td>\n",
       "      <td>3 - 4 times per week</td>\n",
       "      <td>Male</td>\n",
       "      <td>Straight or heterosexual</td>\n",
       "      <td>Some college/university study without earning ...</td>\n",
       "      <td>White or of European descent</td>\n",
       "      <td>18 - 24 years old</td>\n",
       "      <td>Yes</td>\n",
       "      <td>NaN</td>\n",
       "      <td>The survey was an appropriate length</td>\n",
       "      <td>Somewhat easy</td>\n",
       "    </tr>\n",
       "  </tbody>\n",
       "</table>\n",
       "<p>5 rows × 129 columns</p>\n",
       "</div>"
      ],
      "text/plain": [
       "   Respondent Hobby OpenSource         Country         Student  \\\n",
       "0           1   Yes         No           Kenya              No   \n",
       "1           3   Yes        Yes  United Kingdom              No   \n",
       "2           4   Yes        Yes   United States              No   \n",
       "3           5    No         No   United States              No   \n",
       "4           7   Yes         No    South Africa  Yes, part-time   \n",
       "\n",
       "           Employment                                    FormalEducation  \\\n",
       "0  Employed part-time           Bachelor’s degree (BA, BS, B.Eng., etc.)   \n",
       "1  Employed full-time           Bachelor’s degree (BA, BS, B.Eng., etc.)   \n",
       "2  Employed full-time                                   Associate degree   \n",
       "3  Employed full-time           Bachelor’s degree (BA, BS, B.Eng., etc.)   \n",
       "4  Employed full-time  Some college/university study without earning ...   \n",
       "\n",
       "                                      UndergradMajor  \\\n",
       "0                          Mathematics or statistics   \n",
       "1  A natural science (ex. biology, chemistry, phy...   \n",
       "2  Computer science, computer engineering, or sof...   \n",
       "3  Computer science, computer engineering, or sof...   \n",
       "4  Computer science, computer engineering, or sof...   \n",
       "\n",
       "                CompanySize  \\\n",
       "0        20 to 99 employees   \n",
       "1  10,000 or more employees   \n",
       "2        20 to 99 employees   \n",
       "3      100 to 499 employees   \n",
       "4  10,000 or more employees   \n",
       "\n",
       "                                             DevType      ...        \\\n",
       "0                               Full-stack developer      ...         \n",
       "1  Database administrator;DevOps specialist;Full-...      ...         \n",
       "2           Engineering manager;Full-stack developer      ...         \n",
       "3                               Full-stack developer      ...         \n",
       "4  Data or business analyst;Desktop or enterprise...      ...         \n",
       "\n",
       "                     Exercise Gender         SexualOrientation  \\\n",
       "0        3 - 4 times per week   Male  Straight or heterosexual   \n",
       "1   Daily or almost every day   Male  Straight or heterosexual   \n",
       "2                         NaN    NaN                       NaN   \n",
       "3  I don't typically exercise   Male  Straight or heterosexual   \n",
       "4        3 - 4 times per week   Male  Straight or heterosexual   \n",
       "\n",
       "                                    EducationParents  \\\n",
       "0           Bachelor’s degree (BA, BS, B.Eng., etc.)   \n",
       "1           Bachelor’s degree (BA, BS, B.Eng., etc.)   \n",
       "2                                                NaN   \n",
       "3  Some college/university study without earning ...   \n",
       "4  Some college/university study without earning ...   \n",
       "\n",
       "                  RaceEthnicity                Age Dependents  MilitaryUS  \\\n",
       "0   Black or of African descent  25 - 34 years old        Yes         NaN   \n",
       "1  White or of European descent  35 - 44 years old        Yes         NaN   \n",
       "2                           NaN                NaN        NaN         NaN   \n",
       "3  White or of European descent  35 - 44 years old         No          No   \n",
       "4  White or of European descent  18 - 24 years old        Yes         NaN   \n",
       "\n",
       "                          SurveyTooLong     SurveyEasy  \n",
       "0  The survey was an appropriate length      Very easy  \n",
       "1  The survey was an appropriate length  Somewhat easy  \n",
       "2                                   NaN            NaN  \n",
       "3  The survey was an appropriate length  Somewhat easy  \n",
       "4  The survey was an appropriate length  Somewhat easy  \n",
       "\n",
       "[5 rows x 129 columns]"
      ]
     },
     "execution_count": 17,
     "metadata": {},
     "output_type": "execute_result"
    }
   ],
   "source": [
    "# Gather data\n",
    "\n",
    "dfs = [pd.read_csv(f\"survey_results/survey_{i}.csv\") for i in range(2018, 2021)]\n",
    "dfs[0].head()\n"
   ]
  },
  {
   "cell_type": "code",
   "execution_count": null,
   "metadata": {},
   "outputs": [],
   "source": [
    "# assess and explore data"
   ]
  },
  {
   "cell_type": "code",
   "execution_count": 15,
   "metadata": {},
   "outputs": [
    {
     "data": {
      "text/plain": [
       "252199"
      ]
     },
     "execution_count": 15,
     "metadata": {},
     "output_type": "execute_result"
    }
   ],
   "source": [
    "# compute total number of responses summing over all years\n",
    "total_responses = 0\n",
    "for df in dfs:\n",
    "    total_responses += df.shape[0]\n",
    "    \n",
    "total_responses"
   ]
  },
  {
   "cell_type": "code",
   "execution_count": 19,
   "metadata": {},
   "outputs": [
    {
     "name": "stdout",
     "output_type": "stream",
     "text": [
      "Year 2018: 129 columns\n",
      "Year 2019: 85 columns\n",
      "Year 2020: 61 columns\n"
     ]
    }
   ],
   "source": [
    "# number of columns in each year\n",
    "\n",
    "for idx, df in enumerate(dfs):\n",
    "    print(f\"Year {idx + 2018}: {df.shape[1]} columns\")"
   ]
  },
  {
   "cell_type": "code",
   "execution_count": 20,
   "metadata": {},
   "outputs": [
    {
     "data": {
      "text/plain": [
       "'Which programming, scripting, and markup languages have you done extensive development work in over the past year, and which do you want to work in over the next year? (If you both worked with the language and want to continue to do so, please check both boxes in that row.)'"
      ]
     },
     "execution_count": 20,
     "metadata": {},
     "output_type": "execute_result"
    }
   ],
   "source": [
    "# focus question from the survey\n",
    "schema_df = pd.read_csv('survey_results/schema_2020.csv')\n",
    "list(schema_df[schema_df.Column == \"LanguageWorkedWith\"][\"QuestionText\"])[0]"
   ]
  },
  {
   "cell_type": "code",
   "execution_count": 14,
   "metadata": {},
   "outputs": [
    {
     "data": {
      "text/html": [
       "<div>\n",
       "<style scoped>\n",
       "    .dataframe tbody tr th:only-of-type {\n",
       "        vertical-align: middle;\n",
       "    }\n",
       "\n",
       "    .dataframe tbody tr th {\n",
       "        vertical-align: top;\n",
       "    }\n",
       "\n",
       "    .dataframe thead th {\n",
       "        text-align: right;\n",
       "    }\n",
       "</style>\n",
       "<table border=\"1\" class=\"dataframe\">\n",
       "  <thead>\n",
       "    <tr style=\"text-align: right;\">\n",
       "      <th></th>\n",
       "      <th>index</th>\n",
       "      <th>LanguageWorkedWith</th>\n",
       "    </tr>\n",
       "  </thead>\n",
       "  <tbody>\n",
       "    <tr>\n",
       "      <th>0</th>\n",
       "      <td>HTML/CSS;JavaScript;PHP;SQL</td>\n",
       "      <td>1073</td>\n",
       "    </tr>\n",
       "    <tr>\n",
       "      <th>1</th>\n",
       "      <td>HTML/CSS;JavaScript</td>\n",
       "      <td>900</td>\n",
       "    </tr>\n",
       "    <tr>\n",
       "      <th>2</th>\n",
       "      <td>C#;HTML/CSS;JavaScript;SQL</td>\n",
       "      <td>856</td>\n",
       "    </tr>\n",
       "    <tr>\n",
       "      <th>3</th>\n",
       "      <td>C#;HTML/CSS;JavaScript;SQL;TypeScript</td>\n",
       "      <td>754</td>\n",
       "    </tr>\n",
       "    <tr>\n",
       "      <th>4</th>\n",
       "      <td>HTML/CSS;JavaScript;TypeScript</td>\n",
       "      <td>697</td>\n",
       "    </tr>\n",
       "  </tbody>\n",
       "</table>\n",
       "</div>"
      ],
      "text/plain": [
       "                                   index  LanguageWorkedWith\n",
       "0            HTML/CSS;JavaScript;PHP;SQL                1073\n",
       "1                    HTML/CSS;JavaScript                 900\n",
       "2             C#;HTML/CSS;JavaScript;SQL                 856\n",
       "3  C#;HTML/CSS;JavaScript;SQL;TypeScript                 754\n",
       "4         HTML/CSS;JavaScript;TypeScript                 697"
      ]
     },
     "execution_count": 14,
     "metadata": {},
     "output_type": "execute_result"
    }
   ],
   "source": [
    "# lets take a look at what the participants have responded with\n",
    "\n",
    "dfs[2][\"LanguageWorkedWith\"].value_counts().reset_index().head()"
   ]
  },
  {
   "cell_type": "code",
   "execution_count": null,
   "metadata": {},
   "outputs": [],
   "source": [
    "\"\"\"\n",
    "This doesn't look right. The languages are grouped together.\n",
    "To get a count of each language worked with and which are loved and dreaded,\n",
    "the following methods will clean the data and provide the count.\n",
    "\n",
    "But, let's first assess other relevant data for the analysis\n",
    "\"\"\""
   ]
  },
  {
   "cell_type": "code",
   "execution_count": 25,
   "metadata": {
    "scrolled": true
   },
   "outputs": [
    {
     "name": "stdout",
     "output_type": "stream",
     "text": [
      "0       NaN\n",
      "1     51000\n",
      "2       NaN\n",
      "3       NaN\n",
      "4    260000\n",
      "Name: Salary, dtype: object\n",
      "\n",
      "Salary column is not present in dataframe for the year 2019\n",
      "\n",
      "Salary column is not present in dataframe for the year 2020\n",
      "\n"
     ]
    }
   ],
   "source": [
    "# check the responses of salaries for all years\n",
    "\n",
    "for idx, df in enumerate(dfs):\n",
    "    try:\n",
    "        print(df[\"Salary\"].head())\n",
    "    except:\n",
    "        print(f\"Salary column is not present in dataframe for the year {idx + 2018}\")\n",
    "    print()"
   ]
  },
  {
   "cell_type": "code",
   "execution_count": null,
   "metadata": {},
   "outputs": [],
   "source": [
    "\"\"\"\n",
    "Looks like `Salary` column is renamed to `ConvertedComp` for the years 2019 and 2020.\n",
    "Also we see there are rows with null values.\n",
    "Let's clean up the data.\n",
    "\"\"\""
   ]
  },
  {
   "cell_type": "markdown",
   "metadata": {},
   "source": [
    "## Preparing Data"
   ]
  },
  {
   "cell_type": "code",
   "execution_count": 29,
   "metadata": {},
   "outputs": [],
   "source": [
    "def clean_data(df):\n",
    "    \"\"\"\n",
    "    Cleans data for the salary and language worked with column in dataframe\n",
    "    Params:\n",
    "      :df: Dataframe object\n",
    "    Returns: cleaned dataframe object\n",
    "    \"\"\"\n",
    "    # rename to Salary if column not present\n",
    "    if \"Salary\" not in df.columns:\n",
    "        df.rename(columns={\"ConvertedComp\": \"Salary\"}, inplace=True)\n",
    "\n",
    "    df = df.dropna(subset=[\"Salary\", \"LanguageWorkedWith\"])\n",
    "    return df"
   ]
  },
  {
   "cell_type": "code",
   "execution_count": 30,
   "metadata": {},
   "outputs": [],
   "source": [
    "# now that we have a method to clean the data, we can loop over all the years to clean it\n",
    "\n",
    "_dfs = []\n",
    "for df in dfs:\n",
    "    _dfs.append(clean_data(df))\n",
    "dfs = _dfs"
   ]
  },
  {
   "cell_type": "code",
   "execution_count": 31,
   "metadata": {},
   "outputs": [],
   "source": [
    "def count_worked_languages(df):\n",
    "    \"\"\"\n",
    "    Returns a Counter of languages that developers are currently working with\n",
    "    \"\"\"\n",
    "    data = df[\"LanguageWorkedWith\"]\n",
    "\n",
    "    languages = []\n",
    "    for row in data:\n",
    "        languages += [x.strip() for x in row.split(';')]\n",
    "    return Counter(languages)"
   ]
  },
  {
   "cell_type": "code",
   "execution_count": 33,
   "metadata": {
    "scrolled": true
   },
   "outputs": [],
   "source": [
    "def count_loved_dreaded_languages(df):\n",
    "    \"\"\"\n",
    "    Returns a tuple of Counters of loved and dreaded languages\n",
    "    Loved: developers who are currently working with and express desire to work with next year\n",
    "    Dreaded: developers who are currently working with and express no desire to work with next year\n",
    "    \"\"\"\n",
    "    # drop rows where both columns have no values\n",
    "    df = df.dropna(subset=[\"LanguageDesireNextYear\"])\n",
    "    data = df[[\"LanguageWorkedWith\", \"LanguageDesireNextYear\"]]\n",
    "\n",
    "    loved_languages = []\n",
    "    dreaded_languages = []\n",
    "    for row in data.iterrows():\n",
    "        data_row = row[1]\n",
    "        \n",
    "        worked_with = []\n",
    "        desired_next_year = []\n",
    "\n",
    "        if not pd.isna(data_row[\"LanguageWorkedWith\"]):\n",
    "            worked_with = [lang.strip() for lang in data_row[\"LanguageWorkedWith\"].split(';')]\n",
    "        \n",
    "        if not pd.isna(data_row[\"LanguageDesireNextYear\"]):\n",
    "            desired_next_year = [lang.strip() for lang in data_row[\"LanguageDesireNextYear\"].split(';')]\n",
    "            \n",
    "        for lang in worked_with:\n",
    "            if lang in desired_next_year:\n",
    "                loved_languages.append(lang)\n",
    "            else:\n",
    "                dreaded_languages.append(lang)\n",
    "        \n",
    "    return Counter(loved_languages), Counter(dreaded_languages)"
   ]
  },
  {
   "cell_type": "code",
   "execution_count": 34,
   "metadata": {},
   "outputs": [],
   "source": [
    "worked_with_counters = [count_worked_languages(df) for df in dfs]"
   ]
  },
  {
   "cell_type": "code",
   "execution_count": 35,
   "metadata": {},
   "outputs": [],
   "source": [
    "loved_dreaded_counters = [count_loved_dreaded_languages(df) for df in dfs]"
   ]
  },
  {
   "cell_type": "code",
   "execution_count": 43,
   "metadata": {},
   "outputs": [
    {
     "data": {
      "text/html": [
       "<div>\n",
       "<style scoped>\n",
       "    .dataframe tbody tr th:only-of-type {\n",
       "        vertical-align: middle;\n",
       "    }\n",
       "\n",
       "    .dataframe tbody tr th {\n",
       "        vertical-align: top;\n",
       "    }\n",
       "\n",
       "    .dataframe thead th {\n",
       "        text-align: right;\n",
       "    }\n",
       "</style>\n",
       "<table border=\"1\" class=\"dataframe\">\n",
       "  <thead>\n",
       "    <tr style=\"text-align: right;\">\n",
       "      <th></th>\n",
       "      <th>Language</th>\n",
       "      <th>Count</th>\n",
       "    </tr>\n",
       "  </thead>\n",
       "  <tbody>\n",
       "    <tr>\n",
       "      <th>0</th>\n",
       "      <td>Python</td>\n",
       "      <td>13931</td>\n",
       "    </tr>\n",
       "    <tr>\n",
       "      <th>1</th>\n",
       "      <td>SQL</td>\n",
       "      <td>19340</td>\n",
       "    </tr>\n",
       "    <tr>\n",
       "      <th>2</th>\n",
       "      <td>HTML/CSS</td>\n",
       "      <td>20907</td>\n",
       "    </tr>\n",
       "    <tr>\n",
       "      <th>3</th>\n",
       "      <td>Java</td>\n",
       "      <td>12380</td>\n",
       "    </tr>\n",
       "    <tr>\n",
       "      <th>4</th>\n",
       "      <td>JavaScript</td>\n",
       "      <td>23619</td>\n",
       "    </tr>\n",
       "  </tbody>\n",
       "</table>\n",
       "</div>"
      ],
      "text/plain": [
       "     Language  Count\n",
       "0      Python  13931\n",
       "1         SQL  19340\n",
       "2    HTML/CSS  20907\n",
       "3        Java  12380\n",
       "4  JavaScript  23619"
      ]
     },
     "execution_count": 43,
     "metadata": {},
     "output_type": "execute_result"
    }
   ],
   "source": [
    "\"\"\"\n",
    "Now we have count of languages worked with, and which are loved and dreaded\n",
    "Let's see how it looks like for year 2020\n",
    "\"\"\"\n",
    "\n",
    "pd.DataFrame(pd.Series(worked_with_counters[2])).reset_index().rename(\n",
    "    columns={\"index\": \"Language\", 0: \"Count\"}).head()"
   ]
  },
  {
   "cell_type": "code",
   "execution_count": null,
   "metadata": {},
   "outputs": [],
   "source": [
    "\"\"\"\n",
    "using this, we can calculate the percentage of users loving and dreading it and \n",
    "finally save it in the respective counters\n",
    "\"\"\""
   ]
  },
  {
   "cell_type": "code",
   "execution_count": 49,
   "metadata": {},
   "outputs": [],
   "source": [
    "loved_counters = []\n",
    "dreaded_counters = []\n",
    "\n",
    "for idx, worked_with_counter in enumerate(worked_with_counters):\n",
    "    loved_counter = Counter()\n",
    "    dreaded_counter = Counter()\n",
    "    for lang, cnt in worked_with_counter.items():\n",
    "        if cnt != 0:\n",
    "            loved_counter[lang] = loved_dreaded_counters[idx][0][lang] / cnt * 100\n",
    "            dreaded_counter[lang] = loved_dreaded_counters[idx][1][lang] / cnt * 100\n",
    "    loved_counters.append(loved_counter)\n",
    "    dreaded_counters.append(dreaded_counter)\n",
    "    \n",
    "_worked_with_counters = []\n",
    "\n",
    "for idx, counter in enumerate(worked_with_counters):\n",
    "    _counter = Counter()\n",
    "    for lang, cnt in counter.items():\n",
    "        _counter[lang] = (cnt / dfs[idx].shape[0]) * 100\n",
    "    _worked_with_counters.append(_counter)\n",
    "    \n",
    "worked_with_counters = _worked_with_counters"
   ]
  },
  {
   "cell_type": "code",
   "execution_count": 50,
   "metadata": {
    "scrolled": true
   },
   "outputs": [
    {
     "data": {
      "text/html": [
       "<div>\n",
       "<style scoped>\n",
       "    .dataframe tbody tr th:only-of-type {\n",
       "        vertical-align: middle;\n",
       "    }\n",
       "\n",
       "    .dataframe tbody tr th {\n",
       "        vertical-align: top;\n",
       "    }\n",
       "\n",
       "    .dataframe thead th {\n",
       "        text-align: right;\n",
       "    }\n",
       "</style>\n",
       "<table border=\"1\" class=\"dataframe\">\n",
       "  <thead>\n",
       "    <tr style=\"text-align: right;\">\n",
       "      <th></th>\n",
       "      <th>Language</th>\n",
       "      <th>% of Users</th>\n",
       "    </tr>\n",
       "  </thead>\n",
       "  <tbody>\n",
       "    <tr>\n",
       "      <th>0</th>\n",
       "      <td>Python</td>\n",
       "      <td>41.650970</td>\n",
       "    </tr>\n",
       "    <tr>\n",
       "      <th>1</th>\n",
       "      <td>SQL</td>\n",
       "      <td>57.822824</td>\n",
       "    </tr>\n",
       "    <tr>\n",
       "      <th>2</th>\n",
       "      <td>HTML/CSS</td>\n",
       "      <td>62.507848</td>\n",
       "    </tr>\n",
       "    <tr>\n",
       "      <th>3</th>\n",
       "      <td>Java</td>\n",
       "      <td>37.013783</td>\n",
       "    </tr>\n",
       "    <tr>\n",
       "      <th>4</th>\n",
       "      <td>JavaScript</td>\n",
       "      <td>70.616199</td>\n",
       "    </tr>\n",
       "  </tbody>\n",
       "</table>\n",
       "</div>"
      ],
      "text/plain": [
       "     Language  % of Users\n",
       "0      Python   41.650970\n",
       "1         SQL   57.822824\n",
       "2    HTML/CSS   62.507848\n",
       "3        Java   37.013783\n",
       "4  JavaScript   70.616199"
      ]
     },
     "execution_count": 50,
     "metadata": {},
     "output_type": "execute_result"
    }
   ],
   "source": [
    "\"\"\"\n",
    "checking the results for year 2020\n",
    "\"\"\"\n",
    "\n",
    "pd.DataFrame(pd.Series(worked_with_counters[2])).reset_index().rename(\n",
    "    columns={\"index\": \"Language\", 0: \"% of Users\"}).head()"
   ]
  },
  {
   "cell_type": "code",
   "execution_count": null,
   "metadata": {},
   "outputs": [],
   "source": [
    "\"\"\"\n",
    "the following methods will be used to plot the bar charts\n",
    "\"\"\""
   ]
  },
  {
   "cell_type": "code",
   "execution_count": 65,
   "metadata": {},
   "outputs": [],
   "source": [
    "def plot_bar_chart(data, xticks, xlabel, ylabel, title):\n",
    "    \"\"\"\n",
    "    Plots bar chart labelling the axes, adding the title and providing a list of labels `xticks`\n",
    "    for the x axis\n",
    "    Params:\n",
    "      :data: list of numbers\n",
    "      :xticks: list of strings to label the x axis\n",
    "      :xlabel: x axis label\n",
    "      :ylabel: y axis label\n",
    "      :title: title of the bar chart\n",
    "    Returns: None\n",
    "    \"\"\"\n",
    "    plt.figure(figsize=(15, 5))\n",
    "    plt.xlabel(xlabel)\n",
    "    plt.ylabel(ylabel)\n",
    "    plt.title(title)\n",
    "    plt.bar(range(len(data)), data, align=\"center\")\n",
    "    plt.xticks(range(len(xticks)), xticks)\n",
    "    plt.show()"
   ]
  },
  {
   "cell_type": "code",
   "execution_count": 60,
   "metadata": {},
   "outputs": [],
   "source": [
    "def plot_counters_chart(counters, num_most_common, title):\n",
    "    \"\"\"\n",
    "    Plots bar chart showing % of users for each language\n",
    "    Params:\n",
    "      :counters: list of `collections.Counter` object mapping each language to percentage of users\n",
    "      :num_most_common: grabs number of most common items from each counter\n",
    "      :title: title of the bar chart\n",
    "    Returns: None\n",
    "    \"\"\"\n",
    "    for idx, counter in enumerate(counters):\n",
    "        year = idx + 2018\n",
    "        \n",
    "        # pick the `num_most_common` most common items\n",
    "        data = dict(counter.most_common(num_most_common))\n",
    "        \n",
    "        # plot chart\n",
    "        plot_bar_chart(data.values(), data.keys(), \"Language\", \"% of Users\", f'{title} in year {year}')"
   ]
  },
  {
   "cell_type": "markdown",
   "metadata": {},
   "source": [
    "## Evaluating Results\n",
    "\n",
    "### Question 1: Which languages have been used the most each year?\n",
    "### Question 2: Which languages have been the most unwanted?"
   ]
  },
  {
   "cell_type": "code",
   "execution_count": 62,
   "metadata": {},
   "outputs": [
    {
     "data": {
      "image/png": "[encoded data removed]",
      "text/plain": [
       "<matplotlib.figure.Figure at 0x7fb56ae0a748>"
      ]
     },
     "metadata": {
      "needs_background": "light"
     },
     "output_type": "display_data"
    },
    {
     "data": {
      "image/png": "[encoded data removed]",
      "text/plain": [
       "<matplotlib.figure.Figure at 0x7fb554d8e470>"
      ]
     },
     "metadata": {
      "needs_background": "light"
     },
     "output_type": "display_data"
    },
    {
     "data": {
      "image/png": "[encoded data removed]",
      "text/plain": [
       "<matplotlib.figure.Figure at 0x7fb551040470>"
      ]
     },
     "metadata": {
      "needs_background": "light"
     },
     "output_type": "display_data"
    },
    {
     "data": {
      "image/png": "[encoded data removed]",
      "text/plain": [
       "<matplotlib.figure.Figure at 0x7fb56ae0a8d0>"
      ]
     },
     "metadata": {
      "needs_background": "light"
     },
     "output_type": "display_data"
    },
    {
     "data": {
      "image/png": "[encoded data removed]",
      "text/plain": [
       "<matplotlib.figure.Figure at 0x7fb56dc18e48>"
      ]
     },
     "metadata": {
      "needs_background": "light"
     },
     "output_type": "display_data"
    },
    {
     "data": {
      "image/png": "[encoded data removed]",
      "text/plain": [
       "<matplotlib.figure.Figure at 0x7fb56dc1b358>"
      ]
     },
     "metadata": {
      "needs_background": "light"
     },
     "output_type": "display_data"
    },
    {
     "data": {
      "image/png": "[encoded data removed]",
      "text/plain": [
       "<matplotlib.figure.Figure at 0x7fb564957c18>"
      ]
     },
     "metadata": {
      "needs_background": "light"
     },
     "output_type": "display_data"
    },
    {
     "data": {
      "image/png": "[encoded data removed]",
      "text/plain": [
       "<matplotlib.figure.Figure at 0x7fb56cb6ff98>"
      ]
     },
     "metadata": {
      "needs_background": "light"
     },
     "output_type": "display_data"
    },
    {
     "data": {
      "image/png": "[encoded data removed]",
      "text/plain": [
       "<matplotlib.figure.Figure at 0x7fb564bee160>"
      ]
     },
     "metadata": {
      "needs_background": "light"
     },
     "output_type": "display_data"
    }
   ],
   "source": [
    "\"\"\"\n",
    "Plot % of users v/s Language for all years for all counters\n",
    "\"\"\"\n",
    "\n",
    "plot_counters_chart(worked_with_counters, 5, \"% of users who have worked with the language\")\n",
    "plot_counters_chart(loved_counters, 5, \"% of users who love the language\")\n",
    "plot_counters_chart(dreaded_counters, 5, \"% of users who dread the language\")"
   ]
  },
  {
   "cell_type": "markdown",
   "metadata": {},
   "source": [
    "You can see that JavaScript has been consistently at the top over the years when it comes to developers working with it. But, Rust has been the most loved language when you see the developers who also want to continue working with it. Python, the second most loved language in 2019, surpassed by Typescript in 2020, placed third.\n",
    "\n",
    "Looking at the most dreaded languages — the ones which developers are working with, but haven’t expressed any interest to work with it in the next year. You can see from the charts that VBA have been the most dreaded language with Objective-C, Perl and C right behind it."
   ]
  },
  {
   "cell_type": "code",
   "execution_count": 59,
   "metadata": {},
   "outputs": [],
   "source": [
    "\"\"\"\n",
    "Next, we find out the salary associated with each language\n",
    "\"\"\""
   ]
  },
  {
   "cell_type": "code",
   "execution_count": 54,
   "metadata": {
    "scrolled": false
   },
   "outputs": [],
   "source": [
    "def compute_language_median(df, language):\n",
    "    \"\"\"\n",
    "    Computes the median salary for the language\n",
    "    Params:\n",
    "      :df: Dataframe for a particular year\n",
    "      :language: string\n",
    "    \"\"\"\n",
    "\n",
    "    # drop all rows where LanguageWorkedWith or Salary is null\n",
    "    df = df.dropna(subset=[\"LanguageWorkedWith\", \"Salary\"])\n",
    "    \n",
    "    # clean values which are not float\n",
    "    def is_float(x):\n",
    "        \"\"\"Returns true if value can be parsed to float else False\"\"\"\n",
    "        try:\n",
    "            float(x)\n",
    "        except ValueError:\n",
    "            return False\n",
    "        return True\n",
    "\n",
    "    df = df[df[\"Salary\"].apply(is_float)]\n",
    "    \n",
    "    # filter to rows where LanguageWorkedWith contains the language\n",
    "    df = df[df[\"LanguageWorkedWith\"].str.contains(language)]\n",
    "    df = df[[\"LanguageWorkedWith\", \"Salary\"]]\n",
    "\n",
    "    # if dataframe is empty return zero\n",
    "    if df.empty:\n",
    "        return 0\n",
    "\n",
    "    # return the median converted to float\n",
    "    return df[\"Salary\"].astype('float').median()"
   ]
  },
  {
   "cell_type": "code",
   "execution_count": 52,
   "metadata": {},
   "outputs": [],
   "source": [
    "# The below variable contains the list of all languages picked from the year 2020\n",
    "all_languages = [\n",
    "    \"Assembly\",\n",
    "    'Bash/Shell/PowerShell',\n",
    "    'C',\n",
    "    'C#',\n",
    "    'C++',\n",
    "    'Dart',\n",
    "    'Go',\n",
    "    'Haskell',\n",
    "    'HTML/CSS',\n",
    "    'Java',\n",
    "    'JavaScript',\n",
    "    'Julia',\n",
    "    'Kotlin',\n",
    "    'Objective-C',\n",
    "    'Perl',\n",
    "    'PHP',\n",
    "    'Python',\n",
    "    'R',\n",
    "    'Ruby',\n",
    "    'Rust',\n",
    "    'Scala',\n",
    "    'SQL',\n",
    "    'Swift',\n",
    "    'TypeScript',\n",
    "    'VBA'\n",
    "]"
   ]
  },
  {
   "cell_type": "code",
   "execution_count": 55,
   "metadata": {},
   "outputs": [],
   "source": [
    "# compute top salaries for all years for all languages\n",
    "\n",
    "top_salaries = {}\n",
    "\n",
    "for year in range(2018, 2021):\n",
    "    top_salaries[year] = {}\n",
    "    for lang in all_languages:\n",
    "        avg_salary = compute_language_median(\n",
    "            dfs[year-2018],\n",
    "            re.escape(lang)\n",
    "        )\n",
    "        top_salaries[year][lang] = avg_salary"
   ]
  },
  {
   "cell_type": "code",
   "execution_count": 57,
   "metadata": {},
   "outputs": [
    {
     "data": {
      "text/html": [
       "<div>\n",
       "<style scoped>\n",
       "    .dataframe tbody tr th:only-of-type {\n",
       "        vertical-align: middle;\n",
       "    }\n",
       "\n",
       "    .dataframe tbody tr th {\n",
       "        vertical-align: top;\n",
       "    }\n",
       "\n",
       "    .dataframe thead th {\n",
       "        text-align: right;\n",
       "    }\n",
       "</style>\n",
       "<table border=\"1\" class=\"dataframe\">\n",
       "  <thead>\n",
       "    <tr style=\"text-align: right;\">\n",
       "      <th></th>\n",
       "      <th>Language</th>\n",
       "      <th>Salary ($)</th>\n",
       "    </tr>\n",
       "  </thead>\n",
       "  <tbody>\n",
       "    <tr>\n",
       "      <th>0</th>\n",
       "      <td>Assembly</td>\n",
       "      <td>52942.0</td>\n",
       "    </tr>\n",
       "    <tr>\n",
       "      <th>1</th>\n",
       "      <td>Bash/Shell/PowerShell</td>\n",
       "      <td>65052.0</td>\n",
       "    </tr>\n",
       "    <tr>\n",
       "      <th>2</th>\n",
       "      <td>C</td>\n",
       "      <td>53530.0</td>\n",
       "    </tr>\n",
       "    <tr>\n",
       "      <th>3</th>\n",
       "      <td>C#</td>\n",
       "      <td>56723.0</td>\n",
       "    </tr>\n",
       "    <tr>\n",
       "      <th>4</th>\n",
       "      <td>C++</td>\n",
       "      <td>53196.0</td>\n",
       "    </tr>\n",
       "  </tbody>\n",
       "</table>\n",
       "</div>"
      ],
      "text/plain": [
       "                Language  Salary ($)\n",
       "0               Assembly     52942.0\n",
       "1  Bash/Shell/PowerShell     65052.0\n",
       "2                      C     53530.0\n",
       "3                     C#     56723.0\n",
       "4                    C++     53196.0"
      ]
     },
     "execution_count": 57,
     "metadata": {},
     "output_type": "execute_result"
    }
   ],
   "source": [
    "# let's see how it looks like\n",
    "\n",
    "pd.DataFrame(pd.Series(top_salaries[2020])).reset_index().rename(\n",
    "    columns={\"index\": \"Language\", 0: \"Salary ($)\"}).head()"
   ]
  },
  {
   "cell_type": "markdown",
   "metadata": {},
   "source": [
    "## Evaluating Results\n",
    "\n",
    "### Question 3: Which languages are associated with the highest salaries?"
   ]
  },
  {
   "cell_type": "code",
   "execution_count": 66,
   "metadata": {},
   "outputs": [
    {
     "data": {
      "image/png": "[encoded data removed]",
      "text/plain": [
       "<matplotlib.figure.Figure at 0x7fb56c85fef0>"
      ]
     },
     "metadata": {
      "needs_background": "light"
     },
     "output_type": "display_data"
    },
    {
     "data": {
      "image/png": "[encoded data removed]",
      "text/plain": [
       "<matplotlib.figure.Figure at 0x7fb56d7d4588>"
      ]
     },
     "metadata": {
      "needs_background": "light"
     },
     "output_type": "display_data"
    },
    {
     "data": {
      "image/png": "[encoded data removed]",
      "text/plain": [
       "<matplotlib.figure.Figure at 0x7fb56cb6d780>"
      ]
     },
     "metadata": {
      "needs_background": "light"
     },
     "output_type": "display_data"
    }
   ],
   "source": [
    "# plot Salary v/s Language chart for all years\n",
    "for year, lang_dict in top_salaries.items():\n",
    "    # showing only 10 most common items for better visibility\n",
    "    data = Counter(dict(Counter(lang_dict).most_common(10)))\n",
    "    \n",
    "    # plot chart\n",
    "    plot_bar_chart(data.values(), data.keys(), \"Language\", \"Salary ($)\", \"Salary v/ Language\")"
   ]
  },
  {
   "cell_type": "markdown",
   "metadata": {},
   "source": [
    "You can see that Perl, Scala and Go tend to have the highest salaries around $75,000. It is interesting to note that Perl is also one of the most dreaded languages. One possible explanation for this high salary could be to compensate for all the dread to use the language."
   ]
  }
 ],
 "metadata": {
  "kernelspec": {
   "display_name": "Python 3",
   "language": "python",
   "name": "python3"
  },
  "language_info": {
   "codemirror_mode": {
    "name": "ipython",
    "version": 3
   },
   "file_extension": ".py",
   "mimetype": "text/x-python",
   "name": "python",
   "nbconvert_exporter": "python",
   "pygments_lexer": "ipython3",
   "version": "3.6.3"
  }
 },
 "nbformat": 4,
 "nbformat_minor": 2
}
